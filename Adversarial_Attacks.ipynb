{
 "cells": [
  {
   "cell_type": "markdown",
   "id": "3cc9b5a7-509c-4fdd-a53e-67e74b84ec1c",
   "metadata": {},
   "source": [
    "# Adversarial Attacks"
   ]
  },
  {
   "cell_type": "code",
   "execution_count": null,
   "id": "1557f9a7-7d73-4e35-a981-1e4f74c33843",
   "metadata": {},
   "outputs": [],
   "source": [
    "import torch\n",
    "from helpers import load_model, read_image, show_image, classifier\n",
    "import adv_attacks as adv\n",
    "import matplotlib.pyplot as plt\n",
    "%load_ext autoreload\n",
    "%autoreload 2"
   ]
  },
  {
   "cell_type": "markdown",
   "id": "b96b2085-7d25-4298-a99c-b0c376cd4388",
   "metadata": {},
   "source": [
    "## Loading the model\n",
    "We first load a pretrained model and a classifier class that wraps the output of the model."
   ]
  },
  {
   "cell_type": "code",
   "execution_count": null,
   "id": "04ff5b44-bfac-4f02-bd4d-61a0cdde178d",
   "metadata": {},
   "outputs": [],
   "source": [
    "model = load_model(name='ResNet50')\n",
    "clf = classifier(model)"
   ]
  },
  {
   "cell_type": "markdown",
   "id": "9041d624-8252-483f-80bc-2e1a810601cd",
   "metadata": {},
   "source": [
    "## Classify an image\n",
    "\n",
    "We now read an image and classify it with the model."
   ]
  },
  {
   "cell_type": "code",
   "execution_count": null,
   "id": "7f5f25ee-d07f-4a0b-b117-c67f50cafc36",
   "metadata": {},
   "outputs": [],
   "source": [
    "I = read_image('imgs/cat.jpg')\n",
    "show_image(I)\n",
    "clf(I, k=5)"
   ]
  },
  {
   "cell_type": "markdown",
   "id": "879e7ebc-9abd-4e4e-bf6f-281e0419e805",
   "metadata": {},
   "source": [
    "## Perform an attack\n",
    "\n",
    "We now perform an adversarial attack on the image in order to obtain an example that is misclassified."
   ]
  },
  {
   "cell_type": "code",
   "execution_count": null,
   "id": "fa7c4475-a4b8-4c04-890d-a4ed9de574cd",
   "metadata": {},
   "outputs": [],
   "source": [
    "attack = adv.Linf_pgsd(\n",
    "    attack_iters=10,\n",
    "    epsilon=0.05, \n",
    "    alpha=0.01,\n",
    "    init_mode = 'zeros',\n",
    "    verbosity = 1\n",
    ")\n",
    "xadv = attack(model, I)\n",
    "\n",
    "show_image(xadv)\n",
    "clf(xadv, k=3)"
   ]
  },
  {
   "cell_type": "code",
   "execution_count": null,
   "id": "d3c860a9-1fa7-4c62-84bc-dc7ac7fdf102",
   "metadata": {},
   "outputs": [],
   "source": [
    "diff = (I-xadv)\n",
    "diff -= diff.min()\n",
    "show_image(diff/diff.max())"
   ]
  },
  {
   "cell_type": "markdown",
   "id": "c6993911-064c-4b51-bb9a-03a9383eed38",
   "metadata": {},
   "source": [
    "# Targeted Attacks\n",
    "\n",
    "We now perform a targeted attack in order to obtain a certain classification. We first need to select a class."
   ]
  },
  {
   "cell_type": "code",
   "execution_count": null,
   "id": "03ca114a-9194-4ba8-b073-6b76139a9d83",
   "metadata": {
    "scrolled": true
   },
   "outputs": [],
   "source": [
    "for j, c in enumerate(clf.categ):\n",
    "    print(str(j) + ': ' + c)"
   ]
  },
  {
   "cell_type": "code",
   "execution_count": null,
   "id": "0b09d096-8c2c-424f-9c51-cf7ae05915c8",
   "metadata": {},
   "outputs": [],
   "source": [
    "attack = adv.Linf_pgsd(targeted=True,\n",
    "                      attack_iters=10, \n",
    "                      epsilon=0.1, \n",
    "                      alpha=0.01,\n",
    "                      init_mode = 'uniform',\n",
    "                      verbosity = 1)\n",
    "xadv = attack(model, I, y=torch.tensor(([4])))\n",
    "\n",
    "show_image(xadv)\n",
    "clf(xadv, k=3)"
   ]
  },
  {
   "cell_type": "code",
   "execution_count": null,
   "id": "39e73db8-13c5-406a-af8a-9dfb44ea9ec8",
   "metadata": {},
   "outputs": [],
   "source": [
    "diff = (I-xadv)\n",
    "diff -= diff.min()\n",
    "show_image(diff/diff.max())"
   ]
  }
 ],
 "metadata": {
  "kernelspec": {
   "display_name": "Python 3 (ipykernel)",
   "language": "python",
   "name": "python3"
  },
  "language_info": {
   "codemirror_mode": {
    "name": "ipython",
    "version": 3
   },
   "file_extension": ".py",
   "mimetype": "text/x-python",
   "name": "python",
   "nbconvert_exporter": "python",
   "pygments_lexer": "ipython3",
   "version": "3.10.15"
  }
 },
 "nbformat": 4,
 "nbformat_minor": 5
}
