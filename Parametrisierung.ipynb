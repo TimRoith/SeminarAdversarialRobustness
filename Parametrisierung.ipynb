{
 "cells": [
  {
   "cell_type": "markdown",
   "id": "e9890a65-a416-4cc4-a3b5-1cd733c175c2",
   "metadata": {},
   "source": [
    "# Parametrisierung\n",
    "\n",
    "Wir betrachten die Funktion $f(x) = w\\ x + b$ parametrisiert durch $\\theta=(w,b)$."
   ]
  },
  {
   "cell_type": "code",
   "execution_count": 17,
   "id": "e6d8224a-fe60-4b88-86d0-5420ac58a69d",
   "metadata": {},
   "outputs": [
    {
     "data": {
      "application/vnd.jupyter.widget-view+json": {
       "model_id": "599fb5cf9687447695f297feefada42c",
       "version_major": 2,
       "version_minor": 0
      },
      "text/plain": [
       "interactive(children=(FloatSlider(value=1.0, continuous_update=False, description='w', max=5.0, min=-5.0, step…"
      ]
     },
     "metadata": {},
     "output_type": "display_data"
    }
   ],
   "source": [
    "import ipywidgets as widgets\n",
    "from ipywidgets import interactive\n",
    "from IPython.display import display\n",
    "import numpy as np\n",
    "import matplotlib.pyplot as plt\n",
    "plt.style.use('ggplot')\n",
    "\n",
    "def f(x, w=1., b=0.):\n",
    "    return w*x + b\n",
    "\n",
    "x = np.linspace(-3,3,100)\n",
    "def plot_f(w, b):\n",
    "    fig, ax = plt.subplots(1,1, figsize = (5,4))\n",
    "    ax.set_xlim(-3, 3)\n",
    "    ax.set_ylim(-3, 3)\n",
    "    ax.plot(x,f(x,w=w,b=b), linewidth=2, color='xkcd:pink')\n",
    "\n",
    "b_slider = widgets.FloatSlider(min = -5, max = 5., step = 0.5, value = 0.0, continuous_update = False)\n",
    "w_slider = widgets.FloatSlider(min = -5, max = 5.,step=0.5,value=1.,continuous_update=False)\n",
    "\n",
    "interactive_plot = interactive(plot_f, w=w_slider, b=b_slider)\n",
    "display(interactive_plot)"
   ]
  }
 ],
 "metadata": {
  "kernelspec": {
   "display_name": "Python 3 (ipykernel)",
   "language": "python",
   "name": "python3"
  },
  "language_info": {
   "codemirror_mode": {
    "name": "ipython",
    "version": 3
   },
   "file_extension": ".py",
   "mimetype": "text/x-python",
   "name": "python",
   "nbconvert_exporter": "python",
   "pygments_lexer": "ipython3",
   "version": "3.10.9"
  }
 },
 "nbformat": 4,
 "nbformat_minor": 5
}
